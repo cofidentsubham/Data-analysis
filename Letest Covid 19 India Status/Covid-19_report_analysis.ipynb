{
 "cells": [
  {
   "cell_type": "markdown",
   "id": "654c0f52",
   "metadata": {},
   "source": [
    "# Introduction :\n",
    "\n",
    "The data set I choice for This project is \"Covid-19 India Statewise Data\".\n",
    "\n",
    "This Dataset contain Statewise Number of Total cases, Active cases, Total Discharge,Deaths, active ratio(%), Discharge ratio (%), Death Ratio(%). I found This dataset From Kaggel. \n",
    "\n",
    "# Question about this dataset:\n",
    "\n",
    "1. Which State has Maximum cases ?\n",
    "2. Define the death ratio for each state\n",
    "3. Plot a Heatmap\n",
    "4. Find the total death of each state\n",
    "\n",
    "# Module use for This Project:\n",
    "1. Pandas\n",
    "2. Numpy\n",
    "3. Seaborn\n",
    "4. Matplotlib"
   ]
  },
  {
   "cell_type": "code",
   "execution_count": 1,
   "id": "6dbcbadf",
   "metadata": {},
   "outputs": [],
   "source": [
    "import pandas as pd\n",
    "import numpy as np\n",
    "import matplotlib.pyplot as plt\n",
    "import seaborn as sns"
   ]
  },
  {
   "cell_type": "markdown",
   "id": "624531ed",
   "metadata": {},
   "source": [
    "### Reading Data Frame"
   ]
  },
  {
   "cell_type": "code",
   "execution_count": 91,
   "id": "7cbc2bbf",
   "metadata": {
    "scrolled": false
   },
   "outputs": [
    {
     "data": {
      "text/html": [
       "<div>\n",
       "<style scoped>\n",
       "    .dataframe tbody tr th:only-of-type {\n",
       "        vertical-align: middle;\n",
       "    }\n",
       "\n",
       "    .dataframe tbody tr th {\n",
       "        vertical-align: top;\n",
       "    }\n",
       "\n",
       "    .dataframe thead th {\n",
       "        text-align: right;\n",
       "    }\n",
       "</style>\n",
       "<table border=\"1\" class=\"dataframe\">\n",
       "  <thead>\n",
       "    <tr style=\"text-align: right;\">\n",
       "      <th></th>\n",
       "      <th>State/UTs</th>\n",
       "      <th>Total Cases</th>\n",
       "      <th>Active</th>\n",
       "      <th>Discharged</th>\n",
       "      <th>Deaths</th>\n",
       "      <th>Active Ratio (%)</th>\n",
       "      <th>Discharge Ratio (%)</th>\n",
       "      <th>Death Ratio (%)</th>\n",
       "    </tr>\n",
       "  </thead>\n",
       "  <tbody>\n",
       "    <tr>\n",
       "      <th>0</th>\n",
       "      <td>Maharashtra</td>\n",
       "      <td>6214190</td>\n",
       "      <td>106809</td>\n",
       "      <td>5980350</td>\n",
       "      <td>127031</td>\n",
       "      <td>1.72</td>\n",
       "      <td>96.24</td>\n",
       "      <td>2.04</td>\n",
       "    </tr>\n",
       "    <tr>\n",
       "      <th>1</th>\n",
       "      <td>Kerala</td>\n",
       "      <td>3160937</td>\n",
       "      <td>125535</td>\n",
       "      <td>3020052</td>\n",
       "      <td>15350</td>\n",
       "      <td>3.97</td>\n",
       "      <td>95.54</td>\n",
       "      <td>0.49</td>\n",
       "    </tr>\n",
       "    <tr>\n",
       "      <th>2</th>\n",
       "      <td>Karnataka</td>\n",
       "      <td>2883947</td>\n",
       "      <td>29314</td>\n",
       "      <td>2818476</td>\n",
       "      <td>36157</td>\n",
       "      <td>1.02</td>\n",
       "      <td>97.73</td>\n",
       "      <td>1.25</td>\n",
       "    </tr>\n",
       "    <tr>\n",
       "      <th>3</th>\n",
       "      <td>Tamil Nadu</td>\n",
       "      <td>2535402</td>\n",
       "      <td>27897</td>\n",
       "      <td>2473781</td>\n",
       "      <td>33724</td>\n",
       "      <td>1.10</td>\n",
       "      <td>97.57</td>\n",
       "      <td>1.33</td>\n",
       "    </tr>\n",
       "    <tr>\n",
       "      <th>4</th>\n",
       "      <td>Andhra Pradesh</td>\n",
       "      <td>1940096</td>\n",
       "      <td>24708</td>\n",
       "      <td>1902256</td>\n",
       "      <td>13132</td>\n",
       "      <td>1.27</td>\n",
       "      <td>98.05</td>\n",
       "      <td>0.68</td>\n",
       "    </tr>\n",
       "  </tbody>\n",
       "</table>\n",
       "</div>"
      ],
      "text/plain": [
       "        State/UTs  Total Cases  Active  Discharged  Deaths  Active Ratio (%)  \\\n",
       "0     Maharashtra      6214190  106809     5980350  127031              1.72   \n",
       "1          Kerala      3160937  125535     3020052   15350              3.97   \n",
       "2       Karnataka      2883947   29314     2818476   36157              1.02   \n",
       "3      Tamil Nadu      2535402   27897     2473781   33724              1.10   \n",
       "4  Andhra Pradesh      1940096   24708     1902256   13132              1.27   \n",
       "\n",
       "   Discharge Ratio (%)  Death Ratio (%)  \n",
       "0                96.24             2.04  \n",
       "1                95.54             0.49  \n",
       "2                97.73             1.25  \n",
       "3                97.57             1.33  \n",
       "4                98.05             0.68  "
      ]
     },
     "execution_count": 91,
     "metadata": {},
     "output_type": "execute_result"
    }
   ],
   "source": [
    "df = pd.read_csv(\"Latest Covid-19 India Status.csv\")\n",
    "df.head()"
   ]
  },
  {
   "cell_type": "code",
   "execution_count": 3,
   "id": "7a915f69",
   "metadata": {},
   "outputs": [
    {
     "data": {
      "text/plain": [
       "(36, 8)"
      ]
     },
     "execution_count": 3,
     "metadata": {},
     "output_type": "execute_result"
    }
   ],
   "source": [
    "df.shape"
   ]
  },
  {
   "cell_type": "code",
   "execution_count": 4,
   "id": "6f7a0fd3",
   "metadata": {},
   "outputs": [
    {
     "name": "stdout",
     "output_type": "stream",
     "text": [
      "<class 'pandas.core.frame.DataFrame'>\n",
      "RangeIndex: 36 entries, 0 to 35\n",
      "Data columns (total 8 columns):\n",
      " #   Column               Non-Null Count  Dtype  \n",
      "---  ------               --------------  -----  \n",
      " 0   State/UTs            36 non-null     object \n",
      " 1   Total Cases          36 non-null     int64  \n",
      " 2   Active               36 non-null     int64  \n",
      " 3   Discharged           36 non-null     int64  \n",
      " 4   Deaths               36 non-null     int64  \n",
      " 5   Active Ratio (%)     36 non-null     float64\n",
      " 6   Discharge Ratio (%)  36 non-null     float64\n",
      " 7   Death Ratio (%)      36 non-null     float64\n",
      "dtypes: float64(3), int64(4), object(1)\n",
      "memory usage: 2.4+ KB\n"
     ]
    }
   ],
   "source": [
    "df.info()"
   ]
  },
  {
   "cell_type": "code",
   "execution_count": 5,
   "id": "964ab80c",
   "metadata": {},
   "outputs": [
    {
     "data": {
      "text/plain": [
       "288"
      ]
     },
     "execution_count": 5,
     "metadata": {},
     "output_type": "execute_result"
    }
   ],
   "source": [
    "# Data size\n",
    "df.size"
   ]
  },
  {
   "cell_type": "code",
   "execution_count": 6,
   "id": "79462229",
   "metadata": {},
   "outputs": [
    {
     "data": {
      "text/plain": [
       "State/UTs               object\n",
       "Total Cases              int64\n",
       "Active                   int64\n",
       "Discharged               int64\n",
       "Deaths                   int64\n",
       "Active Ratio (%)       float64\n",
       "Discharge Ratio (%)    float64\n",
       "Death Ratio (%)        float64\n",
       "dtype: object"
      ]
     },
     "execution_count": 6,
     "metadata": {},
     "output_type": "execute_result"
    }
   ],
   "source": [
    "# Checking Data Types\n",
    "df.dtypes"
   ]
  },
  {
   "cell_type": "code",
   "execution_count": 7,
   "id": "428d900e",
   "metadata": {},
   "outputs": [
    {
     "data": {
      "text/plain": [
       "State/UTs              36\n",
       "Total Cases            36\n",
       "Active                 36\n",
       "Discharged             36\n",
       "Deaths                 36\n",
       "Active Ratio (%)       35\n",
       "Discharge Ratio (%)    36\n",
       "Death Ratio (%)        30\n",
       "dtype: int64"
      ]
     },
     "execution_count": 7,
     "metadata": {},
     "output_type": "execute_result"
    }
   ],
   "source": [
    "# Cheacking unique values\n",
    "df.nunique()"
   ]
  },
  {
   "cell_type": "markdown",
   "id": "fcbf3d84",
   "metadata": {},
   "source": [
    "### Cleaning Unusal data"
   ]
  },
  {
   "cell_type": "code",
   "execution_count": 8,
   "id": "b6d202da",
   "metadata": {},
   "outputs": [
    {
     "data": {
      "text/plain": [
       "State/UTs              0\n",
       "Total Cases            0\n",
       "Active                 0\n",
       "Discharged             0\n",
       "Deaths                 0\n",
       "Active Ratio (%)       0\n",
       "Discharge Ratio (%)    0\n",
       "Death Ratio (%)        0\n",
       "dtype: int64"
      ]
     },
     "execution_count": 8,
     "metadata": {},
     "output_type": "execute_result"
    }
   ],
   "source": [
    "# CHecking Null value\n",
    "df.isnull().sum()"
   ]
  },
  {
   "cell_type": "markdown",
   "id": "98a68205",
   "metadata": {},
   "source": [
    "Here we Do not found any missing value to replace or delete"
   ]
  },
  {
   "cell_type": "code",
   "execution_count": 9,
   "id": "7293656e",
   "metadata": {},
   "outputs": [
    {
     "data": {
      "text/plain": [
       "0"
      ]
     },
     "execution_count": 9,
     "metadata": {},
     "output_type": "execute_result"
    }
   ],
   "source": [
    "# Checking duplicate values\n",
    "df.duplicated().sum()"
   ]
  },
  {
   "cell_type": "markdown",
   "id": "e1efbaed",
   "metadata": {},
   "source": [
    "Here we Do not found any Duplicate data "
   ]
  },
  {
   "cell_type": "code",
   "execution_count": 92,
   "id": "f5801048",
   "metadata": {},
   "outputs": [
    {
     "data": {
      "text/html": [
       "<div>\n",
       "<style scoped>\n",
       "    .dataframe tbody tr th:only-of-type {\n",
       "        vertical-align: middle;\n",
       "    }\n",
       "\n",
       "    .dataframe tbody tr th {\n",
       "        vertical-align: top;\n",
       "    }\n",
       "\n",
       "    .dataframe thead th {\n",
       "        text-align: right;\n",
       "    }\n",
       "</style>\n",
       "<table border=\"1\" class=\"dataframe\">\n",
       "  <thead>\n",
       "    <tr style=\"text-align: right;\">\n",
       "      <th></th>\n",
       "      <th>State</th>\n",
       "      <th>Total Cases</th>\n",
       "      <th>Active</th>\n",
       "      <th>Discharged</th>\n",
       "      <th>Deaths</th>\n",
       "      <th>ActiveRatio</th>\n",
       "      <th>DischargeRatio</th>\n",
       "      <th>DeathRatio</th>\n",
       "    </tr>\n",
       "  </thead>\n",
       "  <tbody>\n",
       "    <tr>\n",
       "      <th>0</th>\n",
       "      <td>Maharashtra</td>\n",
       "      <td>6214190</td>\n",
       "      <td>106809</td>\n",
       "      <td>5980350</td>\n",
       "      <td>127031</td>\n",
       "      <td>1.72</td>\n",
       "      <td>96.24</td>\n",
       "      <td>2.04</td>\n",
       "    </tr>\n",
       "    <tr>\n",
       "      <th>1</th>\n",
       "      <td>Kerala</td>\n",
       "      <td>3160937</td>\n",
       "      <td>125535</td>\n",
       "      <td>3020052</td>\n",
       "      <td>15350</td>\n",
       "      <td>3.97</td>\n",
       "      <td>95.54</td>\n",
       "      <td>0.49</td>\n",
       "    </tr>\n",
       "    <tr>\n",
       "      <th>2</th>\n",
       "      <td>Karnataka</td>\n",
       "      <td>2883947</td>\n",
       "      <td>29314</td>\n",
       "      <td>2818476</td>\n",
       "      <td>36157</td>\n",
       "      <td>1.02</td>\n",
       "      <td>97.73</td>\n",
       "      <td>1.25</td>\n",
       "    </tr>\n",
       "    <tr>\n",
       "      <th>3</th>\n",
       "      <td>Tamil Nadu</td>\n",
       "      <td>2535402</td>\n",
       "      <td>27897</td>\n",
       "      <td>2473781</td>\n",
       "      <td>33724</td>\n",
       "      <td>1.10</td>\n",
       "      <td>97.57</td>\n",
       "      <td>1.33</td>\n",
       "    </tr>\n",
       "    <tr>\n",
       "      <th>4</th>\n",
       "      <td>Andhra Pradesh</td>\n",
       "      <td>1940096</td>\n",
       "      <td>24708</td>\n",
       "      <td>1902256</td>\n",
       "      <td>13132</td>\n",
       "      <td>1.27</td>\n",
       "      <td>98.05</td>\n",
       "      <td>0.68</td>\n",
       "    </tr>\n",
       "  </tbody>\n",
       "</table>\n",
       "</div>"
      ],
      "text/plain": [
       "            State  Total Cases  Active  Discharged  Deaths  ActiveRatio  \\\n",
       "0     Maharashtra      6214190  106809     5980350  127031         1.72   \n",
       "1          Kerala      3160937  125535     3020052   15350         3.97   \n",
       "2       Karnataka      2883947   29314     2818476   36157         1.02   \n",
       "3      Tamil Nadu      2535402   27897     2473781   33724         1.10   \n",
       "4  Andhra Pradesh      1940096   24708     1902256   13132         1.27   \n",
       "\n",
       "   DischargeRatio  DeathRatio  \n",
       "0           96.24        2.04  \n",
       "1           95.54        0.49  \n",
       "2           97.73        1.25  \n",
       "3           97.57        1.33  \n",
       "4           98.05        0.68  "
      ]
     },
     "execution_count": 92,
     "metadata": {},
     "output_type": "execute_result"
    }
   ],
   "source": [
    "df.rename(columns={\"State/UTs\":\"State\",\"Active Ratio (%)\":\"ActiveRatio\", \"Discharge Ratio (%)\":\"DischargeRatio\",\"Death Ratio (%)\":\"DeathRatio\" },inplace=True)\n",
    "df.head()"
   ]
  },
  {
   "cell_type": "markdown",
   "id": "067cf12d",
   "metadata": {},
   "source": [
    "### Analysing data"
   ]
  },
  {
   "cell_type": "code",
   "execution_count": 11,
   "id": "6f0f304b",
   "metadata": {},
   "outputs": [
    {
     "data": {
      "text/html": [
       "<div>\n",
       "<style scoped>\n",
       "    .dataframe tbody tr th:only-of-type {\n",
       "        vertical-align: middle;\n",
       "    }\n",
       "\n",
       "    .dataframe tbody tr th {\n",
       "        vertical-align: top;\n",
       "    }\n",
       "\n",
       "    .dataframe thead th {\n",
       "        text-align: right;\n",
       "    }\n",
       "</style>\n",
       "<table border=\"1\" class=\"dataframe\">\n",
       "  <thead>\n",
       "    <tr style=\"text-align: right;\">\n",
       "      <th></th>\n",
       "      <th>Total Cases</th>\n",
       "      <th>Active</th>\n",
       "      <th>Discharged</th>\n",
       "      <th>Deaths</th>\n",
       "      <th>ActiveRatio</th>\n",
       "      <th>DischargeRatio</th>\n",
       "      <th>Death Ratio (%)</th>\n",
       "    </tr>\n",
       "  </thead>\n",
       "  <tbody>\n",
       "    <tr>\n",
       "      <th>count</th>\n",
       "      <td>3.600000e+01</td>\n",
       "      <td>36.000000</td>\n",
       "      <td>3.600000e+01</td>\n",
       "      <td>36.000000</td>\n",
       "      <td>36.000000</td>\n",
       "      <td>36.000000</td>\n",
       "      <td>36.000000</td>\n",
       "    </tr>\n",
       "    <tr>\n",
       "      <th>mean</th>\n",
       "      <td>8.651175e+05</td>\n",
       "      <td>11712.916667</td>\n",
       "      <td>8.419016e+05</td>\n",
       "      <td>11503.000000</td>\n",
       "      <td>2.572778</td>\n",
       "      <td>96.167778</td>\n",
       "      <td>1.260000</td>\n",
       "    </tr>\n",
       "    <tr>\n",
       "      <th>std</th>\n",
       "      <td>1.244523e+06</td>\n",
       "      <td>27062.566710</td>\n",
       "      <td>1.202299e+06</td>\n",
       "      <td>21914.699427</td>\n",
       "      <td>4.495239</td>\n",
       "      <td>4.393510</td>\n",
       "      <td>0.562926</td>\n",
       "    </tr>\n",
       "    <tr>\n",
       "      <th>min</th>\n",
       "      <td>7.510000e+03</td>\n",
       "      <td>16.000000</td>\n",
       "      <td>7.365000e+03</td>\n",
       "      <td>4.000000</td>\n",
       "      <td>0.030000</td>\n",
       "      <td>77.720000</td>\n",
       "      <td>0.040000</td>\n",
       "    </tr>\n",
       "    <tr>\n",
       "      <th>25%</th>\n",
       "      <td>6.076375e+04</td>\n",
       "      <td>567.250000</td>\n",
       "      <td>5.888850e+04</td>\n",
       "      <td>788.750000</td>\n",
       "      <td>0.155000</td>\n",
       "      <td>96.137500</td>\n",
       "      <td>0.932500</td>\n",
       "    </tr>\n",
       "    <tr>\n",
       "      <th>50%</th>\n",
       "      <td>4.469820e+05</td>\n",
       "      <td>1412.000000</td>\n",
       "      <td>4.328515e+05</td>\n",
       "      <td>5028.500000</td>\n",
       "      <td>0.770000</td>\n",
       "      <td>97.830000</td>\n",
       "      <td>1.330000</td>\n",
       "    </tr>\n",
       "    <tr>\n",
       "      <th>75%</th>\n",
       "      <td>9.657078e+05</td>\n",
       "      <td>9713.000000</td>\n",
       "      <td>9.536130e+05</td>\n",
       "      <td>13223.000000</td>\n",
       "      <td>2.300000</td>\n",
       "      <td>98.495000</td>\n",
       "      <td>1.627500</td>\n",
       "    </tr>\n",
       "    <tr>\n",
       "      <th>max</th>\n",
       "      <td>6.214190e+06</td>\n",
       "      <td>125535.000000</td>\n",
       "      <td>5.980350e+06</td>\n",
       "      <td>127031.000000</td>\n",
       "      <td>21.840000</td>\n",
       "      <td>99.790000</td>\n",
       "      <td>2.710000</td>\n",
       "    </tr>\n",
       "  </tbody>\n",
       "</table>\n",
       "</div>"
      ],
      "text/plain": [
       "        Total Cases         Active    Discharged         Deaths  ActiveRatio  \\\n",
       "count  3.600000e+01      36.000000  3.600000e+01      36.000000    36.000000   \n",
       "mean   8.651175e+05   11712.916667  8.419016e+05   11503.000000     2.572778   \n",
       "std    1.244523e+06   27062.566710  1.202299e+06   21914.699427     4.495239   \n",
       "min    7.510000e+03      16.000000  7.365000e+03       4.000000     0.030000   \n",
       "25%    6.076375e+04     567.250000  5.888850e+04     788.750000     0.155000   \n",
       "50%    4.469820e+05    1412.000000  4.328515e+05    5028.500000     0.770000   \n",
       "75%    9.657078e+05    9713.000000  9.536130e+05   13223.000000     2.300000   \n",
       "max    6.214190e+06  125535.000000  5.980350e+06  127031.000000    21.840000   \n",
       "\n",
       "       DischargeRatio  Death Ratio (%)  \n",
       "count       36.000000        36.000000  \n",
       "mean        96.167778         1.260000  \n",
       "std          4.393510         0.562926  \n",
       "min         77.720000         0.040000  \n",
       "25%         96.137500         0.932500  \n",
       "50%         97.830000         1.330000  \n",
       "75%         98.495000         1.627500  \n",
       "max         99.790000         2.710000  "
      ]
     },
     "execution_count": 11,
     "metadata": {},
     "output_type": "execute_result"
    }
   ],
   "source": [
    "# Statistic values for this data\n",
    "df.describe()"
   ]
  },
  {
   "cell_type": "code",
   "execution_count": 12,
   "id": "3b0f98f8",
   "metadata": {},
   "outputs": [
    {
     "data": {
      "image/png": "[encoded data removed]",
      "text/plain": [
       "<Figure size 1152x648 with 9 Axes>"
      ]
     },
     "metadata": {
      "needs_background": "light"
     },
     "output_type": "display_data"
    }
   ],
   "source": [
    "df.hist(figsize=(16,9))\n",
    "plt.show()"
   ]
  },
  {
   "cell_type": "markdown",
   "id": "db93e589",
   "metadata": {},
   "source": [
    "# Exploration and Visualization with Conclusion"
   ]
  },
  {
   "cell_type": "code",
   "execution_count": 13,
   "id": "0c36525c",
   "metadata": {},
   "outputs": [
    {
     "data": {
      "text/html": [
       "<div>\n",
       "<style scoped>\n",
       "    .dataframe tbody tr th:only-of-type {\n",
       "        vertical-align: middle;\n",
       "    }\n",
       "\n",
       "    .dataframe tbody tr th {\n",
       "        vertical-align: top;\n",
       "    }\n",
       "\n",
       "    .dataframe thead th {\n",
       "        text-align: right;\n",
       "    }\n",
       "</style>\n",
       "<table border=\"1\" class=\"dataframe\">\n",
       "  <thead>\n",
       "    <tr style=\"text-align: right;\">\n",
       "      <th></th>\n",
       "      <th>Total Cases</th>\n",
       "      <th>Active</th>\n",
       "      <th>Discharged</th>\n",
       "      <th>Deaths</th>\n",
       "      <th>ActiveRatio</th>\n",
       "      <th>DischargeRatio</th>\n",
       "      <th>Death Ratio (%)</th>\n",
       "    </tr>\n",
       "    <tr>\n",
       "      <th>State</th>\n",
       "      <th></th>\n",
       "      <th></th>\n",
       "      <th></th>\n",
       "      <th></th>\n",
       "      <th></th>\n",
       "      <th></th>\n",
       "      <th></th>\n",
       "    </tr>\n",
       "  </thead>\n",
       "  <tbody>\n",
       "    <tr>\n",
       "      <th>Andaman and Nicobar</th>\n",
       "      <td>7510</td>\n",
       "      <td>16</td>\n",
       "      <td>7365</td>\n",
       "      <td>129</td>\n",
       "      <td>0.21</td>\n",
       "      <td>98.07</td>\n",
       "      <td>1.72</td>\n",
       "    </tr>\n",
       "    <tr>\n",
       "      <th>Andhra Pradesh</th>\n",
       "      <td>1940096</td>\n",
       "      <td>24708</td>\n",
       "      <td>1902256</td>\n",
       "      <td>13132</td>\n",
       "      <td>1.27</td>\n",
       "      <td>98.05</td>\n",
       "      <td>0.68</td>\n",
       "    </tr>\n",
       "    <tr>\n",
       "      <th>Arunachal Pradesh</th>\n",
       "      <td>42820</td>\n",
       "      <td>4211</td>\n",
       "      <td>38407</td>\n",
       "      <td>202</td>\n",
       "      <td>9.83</td>\n",
       "      <td>89.69</td>\n",
       "      <td>0.47</td>\n",
       "    </tr>\n",
       "    <tr>\n",
       "      <th>Assam</th>\n",
       "      <td>547283</td>\n",
       "      <td>17815</td>\n",
       "      <td>524469</td>\n",
       "      <td>4999</td>\n",
       "      <td>3.26</td>\n",
       "      <td>95.83</td>\n",
       "      <td>0.91</td>\n",
       "    </tr>\n",
       "    <tr>\n",
       "      <th>Bihar</th>\n",
       "      <td>723945</td>\n",
       "      <td>725</td>\n",
       "      <td>713591</td>\n",
       "      <td>9629</td>\n",
       "      <td>0.10</td>\n",
       "      <td>98.57</td>\n",
       "      <td>1.33</td>\n",
       "    </tr>\n",
       "  </tbody>\n",
       "</table>\n",
       "</div>"
      ],
      "text/plain": [
       "                     Total Cases  Active  Discharged  Deaths  ActiveRatio  \\\n",
       "State                                                                       \n",
       "Andaman and Nicobar         7510      16        7365     129         0.21   \n",
       "Andhra Pradesh           1940096   24708     1902256   13132         1.27   \n",
       "Arunachal Pradesh          42820    4211       38407     202         9.83   \n",
       "Assam                     547283   17815      524469    4999         3.26   \n",
       "Bihar                     723945     725      713591    9629         0.10   \n",
       "\n",
       "                     DischargeRatio  Death Ratio (%)  \n",
       "State                                                 \n",
       "Andaman and Nicobar           98.07             1.72  \n",
       "Andhra Pradesh                98.05             0.68  \n",
       "Arunachal Pradesh             89.69             0.47  \n",
       "Assam                         95.83             0.91  \n",
       "Bihar                         98.57             1.33  "
      ]
     },
     "execution_count": 13,
     "metadata": {},
     "output_type": "execute_result"
    }
   ],
   "source": [
    "df.groupby(by=\"State\").sum().head(5)"
   ]
  },
  {
   "cell_type": "markdown",
   "id": "06409e32",
   "metadata": {},
   "source": [
    "##### 1. Which State has Maximum cases ?"
   ]
  },
  {
   "cell_type": "code",
   "execution_count": 59,
   "id": "f3eea582",
   "metadata": {},
   "outputs": [
    {
     "data": {
      "image/png": "[encoded data removed]",
      "text/plain": [
       "<Figure size 1440x1080 with 1 Axes>"
      ]
     },
     "metadata": {
      "needs_background": "light"
     },
     "output_type": "display_data"
    }
   ],
   "source": [
    "plt.figure(figsize=(20,15))\n",
    "sns.barplot(x=\"Total Cases\", y = \"State\",palette=\"hot\",data=df)\n",
    "plt.title(\"Maximum number of Cases\", fontsize = 24)\n",
    "plt.xlabel(\"Total Cases\", fontsize=16)\n",
    "plt.ylabel(\"State\", fontsize=16)\n",
    "plt.show()"
   ]
  },
  {
   "cell_type": "markdown",
   "id": "5ba44080",
   "metadata": {},
   "source": [
    "Conclusion of Question No 1. From this plot We can Easily Define That \"MAHARASTRA\" has Miximum Number of Cases and \"ANDAMAN AND NICOBAR\" Has minimum Number of Cases accoriding This dataset."
   ]
  },
  {
   "cell_type": "markdown",
   "id": "83594ad2",
   "metadata": {},
   "source": [
    "##### 2. Define the death ratio for each state"
   ]
  },
  {
   "cell_type": "code",
   "execution_count": 23,
   "id": "ccbe7429",
   "metadata": {},
   "outputs": [
    {
     "data": {
      "text/html": [
       "<div>\n",
       "<style scoped>\n",
       "    .dataframe tbody tr th:only-of-type {\n",
       "        vertical-align: middle;\n",
       "    }\n",
       "\n",
       "    .dataframe tbody tr th {\n",
       "        vertical-align: top;\n",
       "    }\n",
       "\n",
       "    .dataframe thead th {\n",
       "        text-align: right;\n",
       "    }\n",
       "</style>\n",
       "<table border=\"1\" class=\"dataframe\">\n",
       "  <thead>\n",
       "    <tr style=\"text-align: right;\">\n",
       "      <th></th>\n",
       "      <th>State</th>\n",
       "      <th>Total Cases</th>\n",
       "      <th>Active</th>\n",
       "      <th>Discharged</th>\n",
       "      <th>Deaths</th>\n",
       "      <th>ActiveRatio</th>\n",
       "      <th>DischargeRatio</th>\n",
       "      <th>DeathRatio</th>\n",
       "    </tr>\n",
       "  </thead>\n",
       "  <tbody>\n",
       "    <tr>\n",
       "      <th>0</th>\n",
       "      <td>Maharashtra</td>\n",
       "      <td>6214190</td>\n",
       "      <td>106809</td>\n",
       "      <td>5980350</td>\n",
       "      <td>127031</td>\n",
       "      <td>1.72</td>\n",
       "      <td>96.24</td>\n",
       "      <td>2.04</td>\n",
       "    </tr>\n",
       "    <tr>\n",
       "      <th>1</th>\n",
       "      <td>Kerala</td>\n",
       "      <td>3160937</td>\n",
       "      <td>125535</td>\n",
       "      <td>3020052</td>\n",
       "      <td>15350</td>\n",
       "      <td>3.97</td>\n",
       "      <td>95.54</td>\n",
       "      <td>0.49</td>\n",
       "    </tr>\n",
       "    <tr>\n",
       "      <th>2</th>\n",
       "      <td>Karnataka</td>\n",
       "      <td>2883947</td>\n",
       "      <td>29314</td>\n",
       "      <td>2818476</td>\n",
       "      <td>36157</td>\n",
       "      <td>1.02</td>\n",
       "      <td>97.73</td>\n",
       "      <td>1.25</td>\n",
       "    </tr>\n",
       "    <tr>\n",
       "      <th>3</th>\n",
       "      <td>Tamil Nadu</td>\n",
       "      <td>2535402</td>\n",
       "      <td>27897</td>\n",
       "      <td>2473781</td>\n",
       "      <td>33724</td>\n",
       "      <td>1.10</td>\n",
       "      <td>97.57</td>\n",
       "      <td>1.33</td>\n",
       "    </tr>\n",
       "    <tr>\n",
       "      <th>4</th>\n",
       "      <td>Andhra Pradesh</td>\n",
       "      <td>1940096</td>\n",
       "      <td>24708</td>\n",
       "      <td>1902256</td>\n",
       "      <td>13132</td>\n",
       "      <td>1.27</td>\n",
       "      <td>98.05</td>\n",
       "      <td>0.68</td>\n",
       "    </tr>\n",
       "  </tbody>\n",
       "</table>\n",
       "</div>"
      ],
      "text/plain": [
       "            State  Total Cases  Active  Discharged  Deaths  ActiveRatio  \\\n",
       "0     Maharashtra      6214190  106809     5980350  127031         1.72   \n",
       "1          Kerala      3160937  125535     3020052   15350         3.97   \n",
       "2       Karnataka      2883947   29314     2818476   36157         1.02   \n",
       "3      Tamil Nadu      2535402   27897     2473781   33724         1.10   \n",
       "4  Andhra Pradesh      1940096   24708     1902256   13132         1.27   \n",
       "\n",
       "   DischargeRatio  DeathRatio  \n",
       "0           96.24        2.04  \n",
       "1           95.54        0.49  \n",
       "2           97.73        1.25  \n",
       "3           97.57        1.33  \n",
       "4           98.05        0.68  "
      ]
     },
     "execution_count": 23,
     "metadata": {},
     "output_type": "execute_result"
    }
   ],
   "source": [
    "df.head(5)"
   ]
  },
  {
   "cell_type": "code",
   "execution_count": 58,
   "id": "47e69a7f",
   "metadata": {},
   "outputs": [
    {
     "name": "stderr",
     "output_type": "stream",
     "text": [
      "<ipython-input-58-36d778bbf47a>:6: MatplotlibDeprecationWarning: Case-insensitive properties were deprecated in 3.3 and support will be removed two minor releases later\n",
      "  plt.xlabel(\"Death Ratio\", Fontsize = 15)\n",
      "<ipython-input-58-36d778bbf47a>:7: MatplotlibDeprecationWarning: Case-insensitive properties were deprecated in 3.3 and support will be removed two minor releases later\n",
      "  plt.ylabel(\"State\", Fontsize = 15)\n"
     ]
    },
    {
     "data": {
      "image/png": "[encoded data removed]",
      "text/plain": [
       "<Figure size 1440x1080 with 1 Axes>"
      ]
     },
     "metadata": {
      "needs_background": "light"
     },
     "output_type": "display_data"
    }
   ],
   "source": [
    "plt.figure(figsize=(20,15))\n",
    "x= \"DeathRatio\"\n",
    "y = \"State\"\n",
    "sns.barplot(x =\"DeathRatio\", y = \"State\", data = df)\n",
    "plt.title(\"Death Ratio of Each State\", fontsize = 25)\n",
    "plt.xlabel(\"Death Ratio\", Fontsize = 15)\n",
    "plt.ylabel(\"State\", Fontsize = 15)\n",
    "plt.show()\n"
   ]
  },
  {
   "cell_type": "markdown",
   "id": "735c5181",
   "metadata": {},
   "source": [
    "Conclusion For question No 2. From The above graph We can easily Visualize Death Ratio for each State. Maximum Death ratio and minimum death ratio ploted in This Graph"
   ]
  },
  {
   "cell_type": "markdown",
   "id": "d9f14531",
   "metadata": {},
   "source": [
    "##### 3.Plot a Heatmap"
   ]
  },
  {
   "cell_type": "code",
   "execution_count": 80,
   "id": "33cdecf3",
   "metadata": {},
   "outputs": [
    {
     "data": {
      "text/html": [
       "<div>\n",
       "<style scoped>\n",
       "    .dataframe tbody tr th:only-of-type {\n",
       "        vertical-align: middle;\n",
       "    }\n",
       "\n",
       "    .dataframe tbody tr th {\n",
       "        vertical-align: top;\n",
       "    }\n",
       "\n",
       "    .dataframe thead th {\n",
       "        text-align: right;\n",
       "    }\n",
       "</style>\n",
       "<table border=\"1\" class=\"dataframe\">\n",
       "  <thead>\n",
       "    <tr style=\"text-align: right;\">\n",
       "      <th></th>\n",
       "      <th>Total Cases</th>\n",
       "      <th>Active</th>\n",
       "      <th>Discharged</th>\n",
       "      <th>Deaths</th>\n",
       "      <th>ActiveRatio</th>\n",
       "      <th>DischargeRatio</th>\n",
       "      <th>DeathRatio</th>\n",
       "    </tr>\n",
       "    <tr>\n",
       "      <th>State</th>\n",
       "      <th></th>\n",
       "      <th></th>\n",
       "      <th></th>\n",
       "      <th></th>\n",
       "      <th></th>\n",
       "      <th></th>\n",
       "      <th></th>\n",
       "    </tr>\n",
       "  </thead>\n",
       "  <tbody>\n",
       "    <tr>\n",
       "      <th>Maharashtra</th>\n",
       "      <td>6214190</td>\n",
       "      <td>106809</td>\n",
       "      <td>5980350</td>\n",
       "      <td>127031</td>\n",
       "      <td>1.72</td>\n",
       "      <td>96.24</td>\n",
       "      <td>2.04</td>\n",
       "    </tr>\n",
       "    <tr>\n",
       "      <th>Kerala</th>\n",
       "      <td>3160937</td>\n",
       "      <td>125535</td>\n",
       "      <td>3020052</td>\n",
       "      <td>15350</td>\n",
       "      <td>3.97</td>\n",
       "      <td>95.54</td>\n",
       "      <td>0.49</td>\n",
       "    </tr>\n",
       "    <tr>\n",
       "      <th>Karnataka</th>\n",
       "      <td>2883947</td>\n",
       "      <td>29314</td>\n",
       "      <td>2818476</td>\n",
       "      <td>36157</td>\n",
       "      <td>1.02</td>\n",
       "      <td>97.73</td>\n",
       "      <td>1.25</td>\n",
       "    </tr>\n",
       "    <tr>\n",
       "      <th>Tamil Nadu</th>\n",
       "      <td>2535402</td>\n",
       "      <td>27897</td>\n",
       "      <td>2473781</td>\n",
       "      <td>33724</td>\n",
       "      <td>1.10</td>\n",
       "      <td>97.57</td>\n",
       "      <td>1.33</td>\n",
       "    </tr>\n",
       "    <tr>\n",
       "      <th>Andhra Pradesh</th>\n",
       "      <td>1940096</td>\n",
       "      <td>24708</td>\n",
       "      <td>1902256</td>\n",
       "      <td>13132</td>\n",
       "      <td>1.27</td>\n",
       "      <td>98.05</td>\n",
       "      <td>0.68</td>\n",
       "    </tr>\n",
       "  </tbody>\n",
       "</table>\n",
       "</div>"
      ],
      "text/plain": [
       "                Total Cases  Active  Discharged  Deaths  ActiveRatio  \\\n",
       "State                                                                  \n",
       "Maharashtra         6214190  106809     5980350  127031         1.72   \n",
       "Kerala              3160937  125535     3020052   15350         3.97   \n",
       "Karnataka           2883947   29314     2818476   36157         1.02   \n",
       "Tamil Nadu          2535402   27897     2473781   33724         1.10   \n",
       "Andhra Pradesh      1940096   24708     1902256   13132         1.27   \n",
       "\n",
       "                DischargeRatio  DeathRatio  \n",
       "State                                       \n",
       "Maharashtra              96.24        2.04  \n",
       "Kerala                   95.54        0.49  \n",
       "Karnataka                97.73        1.25  \n",
       "Tamil Nadu               97.57        1.33  \n",
       "Andhra Pradesh           98.05        0.68  "
      ]
     },
     "execution_count": 80,
     "metadata": {},
     "output_type": "execute_result"
    }
   ],
   "source": [
    "df.set_index(\"State\",inplace=True)\n",
    "df.head(5)"
   ]
  },
  {
   "cell_type": "code",
   "execution_count": 75,
   "id": "e04f6661",
   "metadata": {},
   "outputs": [
    {
     "data": {
      "image/png": "[encoded data removed]",
      "text/plain": [
       "<Figure size 1440x1152 with 2 Axes>"
      ]
     },
     "metadata": {
      "needs_background": "light"
     },
     "output_type": "display_data"
    }
   ],
   "source": [
    "plt.figure(figsize=(20,16))\n",
    "sns.heatmap(df)\n",
    "plt.show()"
   ]
  },
  {
   "cell_type": "code",
   "execution_count": 82,
   "id": "d7cb150f",
   "metadata": {},
   "outputs": [
    {
     "data": {
      "text/html": [
       "<div>\n",
       "<style scoped>\n",
       "    .dataframe tbody tr th:only-of-type {\n",
       "        vertical-align: middle;\n",
       "    }\n",
       "\n",
       "    .dataframe tbody tr th {\n",
       "        vertical-align: top;\n",
       "    }\n",
       "\n",
       "    .dataframe thead th {\n",
       "        text-align: right;\n",
       "    }\n",
       "</style>\n",
       "<table border=\"1\" class=\"dataframe\">\n",
       "  <thead>\n",
       "    <tr style=\"text-align: right;\">\n",
       "      <th></th>\n",
       "      <th>State/UTs</th>\n",
       "      <th>Total Cases</th>\n",
       "      <th>Active</th>\n",
       "      <th>Discharged</th>\n",
       "      <th>Deaths</th>\n",
       "      <th>Active Ratio (%)</th>\n",
       "      <th>Discharge Ratio (%)</th>\n",
       "      <th>Death Ratio (%)</th>\n",
       "    </tr>\n",
       "  </thead>\n",
       "  <tbody>\n",
       "    <tr>\n",
       "      <th>0</th>\n",
       "      <td>Maharashtra</td>\n",
       "      <td>6214190</td>\n",
       "      <td>106809</td>\n",
       "      <td>5980350</td>\n",
       "      <td>127031</td>\n",
       "      <td>1.72</td>\n",
       "      <td>96.24</td>\n",
       "      <td>2.04</td>\n",
       "    </tr>\n",
       "    <tr>\n",
       "      <th>1</th>\n",
       "      <td>Kerala</td>\n",
       "      <td>3160937</td>\n",
       "      <td>125535</td>\n",
       "      <td>3020052</td>\n",
       "      <td>15350</td>\n",
       "      <td>3.97</td>\n",
       "      <td>95.54</td>\n",
       "      <td>0.49</td>\n",
       "    </tr>\n",
       "  </tbody>\n",
       "</table>\n",
       "</div>"
      ],
      "text/plain": [
       "     State/UTs  Total Cases  Active  Discharged  Deaths  Active Ratio (%)  \\\n",
       "0  Maharashtra      6214190  106809     5980350  127031              1.72   \n",
       "1       Kerala      3160937  125535     3020052   15350              3.97   \n",
       "\n",
       "   Discharge Ratio (%)  Death Ratio (%)  \n",
       "0                96.24             2.04  \n",
       "1                95.54             0.49  "
      ]
     },
     "execution_count": 82,
     "metadata": {},
     "output_type": "execute_result"
    }
   ],
   "source": [
    "df = pd.read_csv(\"Latest Covid-19 India Status.csv\")\n",
    "df.headad(2)"
   ]
  },
  {
   "cell_type": "code",
   "execution_count": 89,
   "id": "20a1cfe6",
   "metadata": {},
   "outputs": [
    {
     "data": {
      "image/png": "[encoded data removed]",
      "text/plain": [
       "<Figure size 1440x1008 with 1 Axes>"
      ]
     },
     "metadata": {
      "needs_background": "light"
     },
     "output_type": "display_data"
    }
   ],
   "source": [
    "plt.figure(figsize=(20,14))\n",
    "sns.barplot(x=\"Deaths\",y=\"State/UTs\",data=df)\n",
    "plt.show()"
   ]
  },
  {
   "cell_type": "markdown",
   "id": "13aee146",
   "metadata": {},
   "source": [
    "Conclusion of Question No 4 : Maharastra have Maximum number of Death"
   ]
  },
  {
   "cell_type": "code",
   "execution_count": null,
   "id": "10188e9d",
   "metadata": {},
   "outputs": [],
   "source": []
  }
 ],
 "metadata": {
  "kernelspec": {
   "display_name": "Python 3",
   "language": "python",
   "name": "python3"
  },
  "language_info": {
   "codemirror_mode": {
    "name": "ipython",
    "version": 3
   },
   "file_extension": ".py",
   "mimetype": "text/x-python",
   "name": "python",
   "nbconvert_exporter": "python",
   "pygments_lexer": "ipython3",
   "version": "3.9.6"
  }
 },
 "nbformat": 4,
 "nbformat_minor": 5
}
